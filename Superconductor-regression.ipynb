{
 "cells": [
  {
   "cell_type": "markdown",
   "id": "c14d776b",
   "metadata": {},
   "source": [
    "The aim of this analysis is to predit a superconductors critical temperature based on the variables from the superconductors chemical formula. We will be training a few different predictive models and compare them to find the best one."
   ]
  },
  {
   "cell_type": "code",
   "execution_count": 1,
   "id": "f8aa87d6",
   "metadata": {},
   "outputs": [],
   "source": [
    "import pandas as pd\n",
    "import numpy as np\n",
    "import statsmodels.api as sm\n",
    "import sklearn.model_selection as ms\n",
    "import matplotlib.pyplot as plt\n",
    "from sklearn import metrics"
   ]
  },
  {
   "cell_type": "code",
   "execution_count": 2,
   "id": "dcd01c93",
   "metadata": {},
   "outputs": [
    {
     "data": {
      "text/html": [
       "<div>\n",
       "<style scoped>\n",
       "    .dataframe tbody tr th:only-of-type {\n",
       "        vertical-align: middle;\n",
       "    }\n",
       "\n",
       "    .dataframe tbody tr th {\n",
       "        vertical-align: top;\n",
       "    }\n",
       "\n",
       "    .dataframe thead th {\n",
       "        text-align: right;\n",
       "    }\n",
       "</style>\n",
       "<table border=\"1\" class=\"dataframe\">\n",
       "  <thead>\n",
       "    <tr style=\"text-align: right;\">\n",
       "      <th></th>\n",
       "      <th>number_of_elements</th>\n",
       "      <th>mean_atomic_mass</th>\n",
       "      <th>wtd_mean_atomic_mass</th>\n",
       "      <th>gmean_atomic_mass</th>\n",
       "      <th>wtd_gmean_atomic_mass</th>\n",
       "      <th>entropy_atomic_mass</th>\n",
       "      <th>wtd_entropy_atomic_mass</th>\n",
       "      <th>range_atomic_mass</th>\n",
       "      <th>wtd_range_atomic_mass</th>\n",
       "      <th>std_atomic_mass</th>\n",
       "      <th>...</th>\n",
       "      <th>wtd_mean_Valence</th>\n",
       "      <th>gmean_Valence</th>\n",
       "      <th>wtd_gmean_Valence</th>\n",
       "      <th>entropy_Valence</th>\n",
       "      <th>wtd_entropy_Valence</th>\n",
       "      <th>range_Valence</th>\n",
       "      <th>wtd_range_Valence</th>\n",
       "      <th>std_Valence</th>\n",
       "      <th>wtd_std_Valence</th>\n",
       "      <th>critical_temp</th>\n",
       "    </tr>\n",
       "  </thead>\n",
       "  <tbody>\n",
       "    <tr>\n",
       "      <th>0</th>\n",
       "      <td>4</td>\n",
       "      <td>88.944468</td>\n",
       "      <td>57.862692</td>\n",
       "      <td>66.361592</td>\n",
       "      <td>36.116612</td>\n",
       "      <td>1.181795</td>\n",
       "      <td>1.062396</td>\n",
       "      <td>122.90607</td>\n",
       "      <td>31.794921</td>\n",
       "      <td>51.968828</td>\n",
       "      <td>...</td>\n",
       "      <td>2.257143</td>\n",
       "      <td>2.213364</td>\n",
       "      <td>2.219783</td>\n",
       "      <td>1.368922</td>\n",
       "      <td>1.066221</td>\n",
       "      <td>1</td>\n",
       "      <td>1.085714</td>\n",
       "      <td>0.433013</td>\n",
       "      <td>0.437059</td>\n",
       "      <td>29.0</td>\n",
       "    </tr>\n",
       "    <tr>\n",
       "      <th>1</th>\n",
       "      <td>5</td>\n",
       "      <td>92.729214</td>\n",
       "      <td>58.518416</td>\n",
       "      <td>73.132787</td>\n",
       "      <td>36.396602</td>\n",
       "      <td>1.449309</td>\n",
       "      <td>1.057755</td>\n",
       "      <td>122.90607</td>\n",
       "      <td>36.161939</td>\n",
       "      <td>47.094633</td>\n",
       "      <td>...</td>\n",
       "      <td>2.257143</td>\n",
       "      <td>1.888175</td>\n",
       "      <td>2.210679</td>\n",
       "      <td>1.557113</td>\n",
       "      <td>1.047221</td>\n",
       "      <td>2</td>\n",
       "      <td>1.128571</td>\n",
       "      <td>0.632456</td>\n",
       "      <td>0.468606</td>\n",
       "      <td>26.0</td>\n",
       "    </tr>\n",
       "    <tr>\n",
       "      <th>2</th>\n",
       "      <td>4</td>\n",
       "      <td>88.944468</td>\n",
       "      <td>57.885242</td>\n",
       "      <td>66.361592</td>\n",
       "      <td>36.122509</td>\n",
       "      <td>1.181795</td>\n",
       "      <td>0.975980</td>\n",
       "      <td>122.90607</td>\n",
       "      <td>35.741099</td>\n",
       "      <td>51.968828</td>\n",
       "      <td>...</td>\n",
       "      <td>2.271429</td>\n",
       "      <td>2.213364</td>\n",
       "      <td>2.232679</td>\n",
       "      <td>1.368922</td>\n",
       "      <td>1.029175</td>\n",
       "      <td>1</td>\n",
       "      <td>1.114286</td>\n",
       "      <td>0.433013</td>\n",
       "      <td>0.444697</td>\n",
       "      <td>19.0</td>\n",
       "    </tr>\n",
       "    <tr>\n",
       "      <th>3</th>\n",
       "      <td>4</td>\n",
       "      <td>88.944468</td>\n",
       "      <td>57.873967</td>\n",
       "      <td>66.361592</td>\n",
       "      <td>36.119560</td>\n",
       "      <td>1.181795</td>\n",
       "      <td>1.022291</td>\n",
       "      <td>122.90607</td>\n",
       "      <td>33.768010</td>\n",
       "      <td>51.968828</td>\n",
       "      <td>...</td>\n",
       "      <td>2.264286</td>\n",
       "      <td>2.213364</td>\n",
       "      <td>2.226222</td>\n",
       "      <td>1.368922</td>\n",
       "      <td>1.048834</td>\n",
       "      <td>1</td>\n",
       "      <td>1.100000</td>\n",
       "      <td>0.433013</td>\n",
       "      <td>0.440952</td>\n",
       "      <td>22.0</td>\n",
       "    </tr>\n",
       "    <tr>\n",
       "      <th>4</th>\n",
       "      <td>4</td>\n",
       "      <td>88.944468</td>\n",
       "      <td>57.840143</td>\n",
       "      <td>66.361592</td>\n",
       "      <td>36.110716</td>\n",
       "      <td>1.181795</td>\n",
       "      <td>1.129224</td>\n",
       "      <td>122.90607</td>\n",
       "      <td>27.848743</td>\n",
       "      <td>51.968828</td>\n",
       "      <td>...</td>\n",
       "      <td>2.242857</td>\n",
       "      <td>2.213364</td>\n",
       "      <td>2.206963</td>\n",
       "      <td>1.368922</td>\n",
       "      <td>1.096052</td>\n",
       "      <td>1</td>\n",
       "      <td>1.057143</td>\n",
       "      <td>0.433013</td>\n",
       "      <td>0.428809</td>\n",
       "      <td>23.0</td>\n",
       "    </tr>\n",
       "  </tbody>\n",
       "</table>\n",
       "<p>5 rows × 82 columns</p>\n",
       "</div>"
      ],
      "text/plain": [
       "   number_of_elements  mean_atomic_mass  wtd_mean_atomic_mass  \\\n",
       "0                   4         88.944468             57.862692   \n",
       "1                   5         92.729214             58.518416   \n",
       "2                   4         88.944468             57.885242   \n",
       "3                   4         88.944468             57.873967   \n",
       "4                   4         88.944468             57.840143   \n",
       "\n",
       "   gmean_atomic_mass  wtd_gmean_atomic_mass  entropy_atomic_mass  \\\n",
       "0          66.361592              36.116612             1.181795   \n",
       "1          73.132787              36.396602             1.449309   \n",
       "2          66.361592              36.122509             1.181795   \n",
       "3          66.361592              36.119560             1.181795   \n",
       "4          66.361592              36.110716             1.181795   \n",
       "\n",
       "   wtd_entropy_atomic_mass  range_atomic_mass  wtd_range_atomic_mass  \\\n",
       "0                 1.062396          122.90607              31.794921   \n",
       "1                 1.057755          122.90607              36.161939   \n",
       "2                 0.975980          122.90607              35.741099   \n",
       "3                 1.022291          122.90607              33.768010   \n",
       "4                 1.129224          122.90607              27.848743   \n",
       "\n",
       "   std_atomic_mass  ...  wtd_mean_Valence  gmean_Valence  wtd_gmean_Valence  \\\n",
       "0        51.968828  ...          2.257143       2.213364           2.219783   \n",
       "1        47.094633  ...          2.257143       1.888175           2.210679   \n",
       "2        51.968828  ...          2.271429       2.213364           2.232679   \n",
       "3        51.968828  ...          2.264286       2.213364           2.226222   \n",
       "4        51.968828  ...          2.242857       2.213364           2.206963   \n",
       "\n",
       "   entropy_Valence  wtd_entropy_Valence  range_Valence  wtd_range_Valence  \\\n",
       "0         1.368922             1.066221              1           1.085714   \n",
       "1         1.557113             1.047221              2           1.128571   \n",
       "2         1.368922             1.029175              1           1.114286   \n",
       "3         1.368922             1.048834              1           1.100000   \n",
       "4         1.368922             1.096052              1           1.057143   \n",
       "\n",
       "   std_Valence  wtd_std_Valence  critical_temp  \n",
       "0     0.433013         0.437059           29.0  \n",
       "1     0.632456         0.468606           26.0  \n",
       "2     0.433013         0.444697           19.0  \n",
       "3     0.433013         0.440952           22.0  \n",
       "4     0.433013         0.428809           23.0  \n",
       "\n",
       "[5 rows x 82 columns]"
      ]
     },
     "execution_count": 2,
     "metadata": {},
     "output_type": "execute_result"
    }
   ],
   "source": [
    "conductivity = pd.read_csv(\"data/train.csv\", header=0, na_values='?').dropna()\n",
    "conductivity.head()"
   ]
  },
  {
   "cell_type": "code",
   "execution_count": 3,
   "id": "fec1e99d",
   "metadata": {},
   "outputs": [
    {
     "name": "stdout",
     "output_type": "stream",
     "text": [
      "\n",
      "DataFrame datatypes :\n",
      " number_of_elements         int64\n",
      "mean_atomic_mass         float64\n",
      "wtd_mean_atomic_mass     float64\n",
      "gmean_atomic_mass        float64\n",
      "wtd_gmean_atomic_mass    float64\n",
      "                          ...   \n",
      "range_Valence              int64\n",
      "wtd_range_Valence        float64\n",
      "std_Valence              float64\n",
      "wtd_std_Valence          float64\n",
      "critical_temp            float64\n",
      "Length: 82, dtype: object\n"
     ]
    }
   ],
   "source": [
    "print('\\nDataFrame datatypes :\\n', conductivity.dtypes)"
   ]
  },
  {
   "cell_type": "markdown",
   "id": "ba2a7510",
   "metadata": {},
   "source": [
    "Splitting our dataset into predictor and response vectors."
   ]
  },
  {
   "cell_type": "code",
   "execution_count": 4,
   "id": "ca139638",
   "metadata": {},
   "outputs": [],
   "source": [
    "X = conductivity.drop(['critical_temp'], axis=1) # X variable is the dataset without the class column\n",
    "X = X.values \n",
    "Y = conductivity.iloc[:,81:82].values # Y variable is only the critical temp column\n",
    "# the 81:82 is important, because otherwise it returns just a 1-dimensional object"
   ]
  },
  {
   "cell_type": "markdown",
   "id": "9f0beb5d",
   "metadata": {},
   "source": [
    "Now, because we are using LASSO and Ridge regression, we need to standardize our predictors."
   ]
  },
  {
   "cell_type": "code",
   "execution_count": 5,
   "id": "608e989a",
   "metadata": {},
   "outputs": [],
   "source": [
    "# Standardizing the predictors\n",
    "X_mean = np.reshape(X.mean(0), (-1,81))\n",
    "X_std = np.reshape(X.std(0), (-1,81))\n",
    "X_stand = (X - X_mean) / X_std"
   ]
  },
  {
   "cell_type": "markdown",
   "id": "9079787f",
   "metadata": {},
   "source": [
    "Finally, we split our data into training and validation sets."
   ]
  },
  {
   "cell_type": "code",
   "execution_count": 8,
   "id": "9e3049c3",
   "metadata": {},
   "outputs": [],
   "source": [
    "import sklearn.model_selection as cv \n",
    "XTrain, XTest, YTrain, Ytest =\\\n",
    "    cv.train_test_split(X_stand, Y, \\\n",
    "    test_size=0.2, random_state=1)"
   ]
  },
  {
   "cell_type": "markdown",
   "id": "2a4619f4",
   "metadata": {},
   "source": [
    "Now we must tune our hyperparameters for the LASSO and Ridge regression. To do this, we utilize a grid search. The intervals I have chosen were found through trial and error."
   ]
  },
  {
   "cell_type": "code",
   "execution_count": 9,
   "id": "be61b721",
   "metadata": {},
   "outputs": [],
   "source": [
    "from sklearn.model_selection import GridSearchCV\n",
    "from sklearn.linear_model import Ridge, Lasso\n",
    "lambda_ridge_range = np.linspace(0.001,0.2,50) \n",
    "lambda_ridge_grid = [{'alpha': lambda_ridge_range}]\n",
    "lambda_lasso_range = np.linspace(0.0001,0.002, 20)\n",
    "lambda_lasso_grid = [{'alpha': lambda_lasso_range}]"
   ]
  },
  {
   "cell_type": "markdown",
   "id": "262292b1",
   "metadata": {},
   "source": [
    "We now utilize k-fold cross validation, where k=11. k=10 is usual, but it can also help to have your choice of k evenly divide your sample size."
   ]
  },
  {
   "cell_type": "code",
   "execution_count": 10,
   "id": "bcad909e",
   "metadata": {},
   "outputs": [
    {
     "data": {
      "text/plain": [
       "GridSearchCV(cv=KFold(n_splits=11, random_state=None, shuffle=False),\n",
       "             estimator=Ridge(max_iter=10000),\n",
       "             param_grid=[{'alpha': array([0.001     , 0.00506122, 0.00912245, 0.01318367, 0.0172449 ,\n",
       "       0.02130612, 0.02536735, 0.02942857, 0.0334898 , 0.03755102,\n",
       "       0.04161224, 0.04567347, 0.04973469, 0.05379592, 0.05785714,\n",
       "       0.06191837, 0.06597959, 0.07004082, 0.07410204, 0.07816327,\n",
       "       0.08222449, 0.08628571, 0.09034694, 0.09440816, 0.09846939,\n",
       "       0.10253061, 0.10659184, 0.11065306, 0.11471429, 0.11877551,\n",
       "       0.12283673, 0.12689796, 0.13095918, 0.13502041, 0.13908163,\n",
       "       0.14314286, 0.14720408, 0.15126531, 0.15532653, 0.15938776,\n",
       "       0.16344898, 0.1675102 , 0.17157143, 0.17563265, 0.17969388,\n",
       "       0.1837551 , 0.18781633, 0.19187755, 0.19593878, 0.2       ])}])"
      ]
     },
     "execution_count": 10,
     "metadata": {},
     "output_type": "execute_result"
    }
   ],
   "source": [
    "model1 = Ridge(max_iter=10000)\n",
    "cv_ridge = GridSearchCV(estimator=model1,\\\n",
    "param_grid=lambda_ridge_grid,\\\n",
    "cv=ms.KFold(n_splits=11))\n",
    "cv_ridge.fit(XTrain, YTrain) # alpha = 0.04973469"
   ]
  },
  {
   "cell_type": "code",
   "execution_count": null,
   "id": "0ab8aad9",
   "metadata": {},
   "outputs": [],
   "source": [
    "model2 = Lasso(max_iter=100000) # I had to put max iter up so high because\n",
    "                              # otherwise the Lasso was not converging.\n",
    "cv_lasso = GridSearchCV(estimator=model2,\\\n",
    "param_grid=lambda_lasso_grid,\\\n",
    "cv=ms.KFold(n_splits=11))\n",
    "cv_lasso.fit(XTrain, YTrain) # alpha = 0.0001"
   ]
  },
  {
   "cell_type": "code",
   "execution_count": 16,
   "id": "6b0d6af9",
   "metadata": {},
   "outputs": [],
   "source": [
    "bestLambda_lasso = 0.0001\n",
    "bestLambda_ridge = 0.04973469"
   ]
  },
  {
   "cell_type": "markdown",
   "id": "67266ff6",
   "metadata": {},
   "source": [
    "Now we train our regressions using the optimized hyperparameters"
   ]
  },
  {
   "cell_type": "code",
   "execution_count": 17,
   "id": "1bf03019",
   "metadata": {},
   "outputs": [
    {
     "name": "stdout",
     "output_type": "stream",
     "text": [
      "[-5.42614935e+00  2.57676996e+01 -3.18817524e+01 -1.58224736e+01\n",
      "  2.44125467e+01 -1.35644627e+01  1.37391829e+00  1.15706924e+01\n",
      "  1.18374158e+00 -1.11080166e+01  1.61983456e+00  1.62098435e+01\n",
      " -3.33588572e+01 -1.39471559e+01  3.01325279e+01 -4.75837114e+01\n",
      "  1.44791745e+01  2.22297681e+01  4.82692248e+00 -2.33424806e+01\n",
      " -1.46066432e+00 -1.29737382e+01  1.00318661e+02  6.28765435e+00\n",
      " -1.09695328e+02  3.18971796e+01  1.88185334e+01  1.31630092e+01\n",
      " -3.45528179e+00 -7.37285636e+00 -9.93333705e+00 -1.43394893e+01\n",
      "  1.94801679e-01  5.50318796e+00  8.41269498e+00  5.42871974e+00\n",
      " -6.68416526e+00 -5.79242221e+00 -4.01920545e-01  9.44998084e+00\n",
      " -2.24237546e+00 -2.37453217e+00  1.62997574e+01  4.76481059e+00\n",
      " -1.77200013e+01  1.26112704e+00 -6.07922045e+00 -2.20162530e+01\n",
      " -4.11866575e+00  2.70824560e+01 -1.09352977e+01  2.02310463e+01\n",
      " -2.77986129e+01 -1.62928267e+01  2.14765810e+01 -6.96861414e+00\n",
      "  9.37790419e+00 -8.60077318e+00  6.91269476e+00 -4.30187748e+00\n",
      "  5.71085603e+00 -2.22577738e+00  2.30687937e+01 -2.51270192e+00\n",
      " -1.21650674e+01  3.66879462e+00  3.50674111e-01 -1.36594316e+01\n",
      " -9.87692614e+00  1.65663205e+01 -8.53539818e-02 -1.60971567e+01\n",
      "  2.80747404e+01  2.03271987e+01 -3.23434622e+01  3.01646534e+01\n",
      " -2.60872611e+01  6.72638889e+00 -6.73408989e-01  2.66705325e+00\n",
      " -1.14534800e+01]\n",
      "[[-5.45261480e+00  2.58421488e+01 -3.19414279e+01 -1.58982461e+01\n",
      "   2.44775002e+01 -1.35846509e+01  1.41848537e+00  1.15898438e+01\n",
      "   1.19624577e+00 -1.11589557e+01  1.64498936e+00  1.62513612e+01\n",
      "  -3.28228377e+01 -1.39767660e+01  2.96736655e+01 -4.70322365e+01\n",
      "   1.44153091e+01  2.22599524e+01  4.81834895e+00 -2.33615733e+01\n",
      "  -1.50640076e+00 -1.25677891e+01  9.91232689e+01  5.86951794e+00\n",
      "  -1.08247923e+02  3.15714991e+01  1.87297161e+01  1.32255764e+01\n",
      "  -3.44587968e+00 -7.65992255e+00 -9.58615010e+00 -1.43962289e+01\n",
      "   3.09405133e-01  5.54919544e+00  8.30141021e+00  5.47026609e+00\n",
      "  -6.70129913e+00 -5.81070800e+00 -4.21135098e-01  9.50161039e+00\n",
      "  -2.27408469e+00 -2.42592546e+00  1.63937018e+01  4.81099097e+00\n",
      "  -1.78028967e+01  1.25474078e+00 -6.07133742e+00 -2.20334723e+01\n",
      "  -4.12645111e+00  2.71148406e+01 -1.09592607e+01  2.02917193e+01\n",
      "  -2.78948562e+01 -1.63298825e+01  2.15439156e+01 -6.97978165e+00\n",
      "   9.39071393e+00 -8.59431816e+00  6.92161491e+00 -4.35450147e+00\n",
      "   5.75618650e+00 -2.22700620e+00  2.30679468e+01 -2.51636590e+00\n",
      "  -1.21567563e+01  3.66956429e+00  3.46966120e-01 -1.36785345e+01\n",
      "  -9.88053066e+00  1.65931632e+01 -8.87900242e-02 -1.65408635e+01\n",
      "   2.85749111e+01  2.07392998e+01 -3.27954708e+01  2.99590143e+01\n",
      "  -2.59943525e+01  6.71496551e+00 -6.71148485e-01  2.71998100e+00\n",
      "  -1.15034362e+01]]\n"
     ]
    }
   ],
   "source": [
    "cond_Lasso = Lasso(alpha=bestLambda_lasso,max_iter=100000)\n",
    "cond_Lasso.fit(XTrain, YTrain)\n",
    "print(cond_Lasso.coef_)\n",
    "\n",
    "cond_Ridge = Ridge(alpha=bestLambda_ridge,max_iter=10000)\n",
    "cond_Ridge.fit(XTrain, YTrain)\n",
    "print(cond_Ridge.coef_)"
   ]
  },
  {
   "cell_type": "markdown",
   "id": "d37ba7f3",
   "metadata": {},
   "source": [
    "We can look at the differences between the coefficients of each variable from each model to see how different each model is."
   ]
  },
  {
   "cell_type": "code",
   "execution_count": 18,
   "id": "712438b2",
   "metadata": {},
   "outputs": [
    {
     "name": "stdout",
     "output_type": "stream",
     "text": [
      "[[ 2.64654470e-02 -7.44491710e-02  5.96755402e-02  7.57724525e-02\n",
      "  -6.49535480e-02  2.01881609e-02 -4.45670842e-02 -1.91513809e-02\n",
      "  -1.25041946e-02  5.09390448e-02 -2.51547996e-02 -4.15176958e-02\n",
      "  -5.36019477e-01  2.96101609e-02  4.58862385e-01 -5.51474925e-01\n",
      "   6.38654460e-02 -3.01842917e-02  8.57353293e-03  1.90926962e-02\n",
      "   4.57364396e-02 -4.05949174e-01  1.19539218e+00  4.18136405e-01\n",
      "  -1.44740523e+00  3.25680539e-01  8.88173285e-02 -6.25671847e-02\n",
      "  -9.40210731e-03  2.87066196e-01 -3.47186951e-01  5.67395900e-02\n",
      "  -1.14603455e-01 -4.60074762e-02  1.11284772e-01 -4.15463434e-02\n",
      "   1.71338688e-02  1.82857947e-02  1.92145529e-02 -5.16295522e-02\n",
      "   3.17092262e-02  5.13932875e-02 -9.39444913e-02 -4.61803806e-02\n",
      "   8.28953326e-02  6.38625922e-03 -7.88302271e-03  1.72192828e-02\n",
      "   7.78536902e-03 -3.23846364e-02  2.39629715e-02 -6.06730439e-02\n",
      "   9.62432707e-02  3.70557708e-02 -6.73346101e-02  1.11675154e-02\n",
      "  -1.28097451e-02 -6.45502792e-03 -8.92014979e-03  5.26239841e-02\n",
      "  -4.53304697e-02  1.22881943e-03  8.46967778e-04  3.66397833e-03\n",
      "  -8.31106346e-03 -7.69671865e-04  3.70799105e-03  1.91028891e-02\n",
      "   3.60452097e-03 -2.68427016e-02  3.43604240e-03  4.43706726e-01\n",
      "  -5.00170702e-01 -4.12101073e-01  4.52008572e-01  2.05639153e-01\n",
      "  -9.29086720e-02  1.14233787e-02 -2.26050345e-03 -5.29277430e-02\n",
      "   4.99561373e-02]]\n"
     ]
    }
   ],
   "source": [
    "print(cond_Lasso.coef_ - cond_Ridge.coef_)"
   ]
  },
  {
   "cell_type": "markdown",
   "id": "90ac7a67",
   "metadata": {},
   "source": [
    "The coefficients are very similar. Most are the same out to 2 decimal places."
   ]
  },
  {
   "cell_type": "markdown",
   "id": "6c085e6a",
   "metadata": {},
   "source": [
    "Do some quick reshaping to get 2d vectors"
   ]
  },
  {
   "cell_type": "code",
   "execution_count": 19,
   "id": "02dcfd67",
   "metadata": {},
   "outputs": [],
   "source": [
    "lasso_train_prediction = np.reshape(cond_Lasso.predict(XTrain), (-1,17010))\n",
    "lasso_test_prediction = np.reshape(cond_Lasso.predict(XTest), (-1, 4253))\n",
    "ridge_train_prediction = np.reshape(cond_Ridge.predict(XTrain), (-1, 17010))\n",
    "ridge_test_prediction = np.reshape(cond_Ridge.predict(XTest), (-1, 4253))\n",
    "\n",
    "Lasso_MSEtrain = metrics.mean_squared_error(YTrain, lasso_train_prediction.T)\n",
    "Lasso_MSEtest = metrics.mean_squared_error(Ytest, lasso_test_prediction.T)\n",
    "Ridge_MSEtrain = metrics.mean_squared_error(YTrain, ridge_train_prediction.T)\n",
    "Ridge_MSEtest = metrics.mean_squared_error(Ytest, ridge_test_prediction.T)"
   ]
  },
  {
   "cell_type": "markdown",
   "id": "ddb4ea7e",
   "metadata": {},
   "source": [
    "We have the first two models trained, now we move on to the Principal Component and Partial Least Squares Regressions"
   ]
  },
  {
   "cell_type": "code",
   "execution_count": 20,
   "id": "7f3d57ba",
   "metadata": {},
   "outputs": [],
   "source": [
    "from sklearn import decomposition\n",
    "from sklearn.decomposition import TruncatedSVD"
   ]
  },
  {
   "cell_type": "code",
   "execution_count": null,
   "id": "3ab9cd40",
   "metadata": {},
   "outputs": [],
   "source": [
    "condPCA = decomposition.PCA()\n",
    "cond_Decomp = condPCA.fit(XTrain)\n",
    "X_decomp = cond_Decomp.transform(XTrain)\n",
    "var_ratio = condPCA.explained_variance_ratio_\n",
    "np.cumsum(np.round(var_ratio, decimals=4)*100)"
   ]
  },
  {
   "cell_type": "markdown",
   "id": "584d1e4f",
   "metadata": {},
   "source": [
    "We can see above that 12 principal components gets us to ~90% of variance explained, so we use 12 principal components."
   ]
  },
  {
   "cell_type": "code",
   "execution_count": 21,
   "id": "767f3bf6",
   "metadata": {},
   "outputs": [
    {
     "data": {
      "text/plain": [
       "Text(0, 0.5, 'explained variance')"
      ]
     },
     "execution_count": 21,
     "metadata": {},
     "output_type": "execute_result"
    },
    {
     "data": {
      "image/png": "[encoded data removed]",
      "text/plain": [
       "<Figure size 432x288 with 1 Axes>"
      ]
     },
     "metadata": {
      "needs_background": "light"
     },
     "output_type": "display_data"
    }
   ],
   "source": [
    "n_components = 12\n",
    "pca = TruncatedSVD(n_components=n_components)\n",
    "X_train_pca = pca.fit_transform(XTrain)\n",
    "X_test_pca = pca.fit_transform(XTest)\n",
    "\n",
    "components = pca.components_\n",
    "plt.plot(pca.explained_variance_)\n",
    "plt.xlabel('component')\n",
    "plt.ylabel('explained variance')"
   ]
  },
  {
   "cell_type": "markdown",
   "id": "1afe55de",
   "metadata": {},
   "source": [
    "Our principal components analysis is done, so we now do regression on the principal components."
   ]
  },
  {
   "cell_type": "code",
   "execution_count": 22,
   "id": "cd673673",
   "metadata": {},
   "outputs": [],
   "source": [
    "from sklearn.linear_model import LinearRegression"
   ]
  },
  {
   "cell_type": "code",
   "execution_count": 23,
   "id": "6117deca",
   "metadata": {},
   "outputs": [],
   "source": [
    "pcr = LinearRegression()\n",
    "pcr.fit(X_train_pca, YTrain)\n",
    "pcr_MSEtrain = metrics.mean_squared_error(YTrain,pcr.predict(X_train_pca))\n",
    "pcr_MSEtest = metrics.mean_squared_error(Ytest, pcr.predict(X_test_pca))"
   ]
  },
  {
   "cell_type": "markdown",
   "id": "53c6b233",
   "metadata": {},
   "source": [
    "And now we train the partial least squares regression."
   ]
  },
  {
   "cell_type": "code",
   "execution_count": 24,
   "id": "bf124c8b",
   "metadata": {},
   "outputs": [],
   "source": [
    "from sklearn.cross_decomposition import PLSRegression\n",
    "from sklearn.preprocessing import scale"
   ]
  },
  {
   "cell_type": "code",
   "execution_count": 25,
   "id": "2868d3f2",
   "metadata": {},
   "outputs": [],
   "source": [
    "pls = PLSRegression(n_components=n_components)\n",
    "pls.fit(scale(XTrain), YTrain)\n",
    "pls_MSEtrain = metrics.mean_squared_error(YTrain,pls.predict(scale(XTrain)))\n",
    "pls_MSEtest = metrics.mean_squared_error(Ytest,pls.predict(scale(XTest)))"
   ]
  },
  {
   "cell_type": "markdown",
   "id": "ccdc5599",
   "metadata": {},
   "source": [
    "To finish off the models, we do an ordinary least squares regression"
   ]
  },
  {
   "cell_type": "code",
   "execution_count": 26,
   "id": "f5f86b34",
   "metadata": {},
   "outputs": [],
   "source": [
    "OLS = LinearRegression()\n",
    "OLS.fit(XTrain, YTrain)\n",
    "OLS_MSEtrain = metrics.mean_squared_error(YTrain, OLS.predict(XTrain))\n",
    "OLS_MSEtest = metrics.mean_squared_error(Ytest, OLS.predict(XTest))"
   ]
  },
  {
   "cell_type": "markdown",
   "id": "687aca4f",
   "metadata": {},
   "source": [
    "Do some simple print commands to compare training and testing errors."
   ]
  },
  {
   "cell_type": "code",
   "execution_count": 27,
   "id": "974b8879",
   "metadata": {},
   "outputs": [
    {
     "name": "stdout",
     "output_type": "stream",
     "text": [
      "The OLS training error is 306.0759047713742  and the OLS testing error is 318.2777505906926\n",
      "The Ridge training error is 306.0797094248285  and the Ridge testing error is 318.18710645738366\n",
      "The Lasso training error is 306.07862958529387  and the Lasso testing error is 318.21233505812893\n",
      "The PCR training error is 484.3618201577728  and the PCR testing error is 864.3148801839544\n",
      "The PLS training error is 346.96005275106666  and the PLS testing error is 348.75312980339515\n"
     ]
    }
   ],
   "source": [
    "print('The OLS training error is', OLS_MSEtrain, ' and the OLS testing error is', OLS_MSEtest)\n",
    "print('The Ridge training error is', Ridge_MSEtrain, ' and the Ridge testing error is', Ridge_MSEtest)\n",
    "print('The Lasso training error is', Lasso_MSEtrain, ' and the Lasso testing error is', Lasso_MSEtest)\n",
    "print('The PCR training error is', pcr_MSEtrain, ' and the PCR testing error is', pcr_MSEtest)\n",
    "print('The PLS training error is', pls_MSEtrain, ' and the PLS testing error is', pls_MSEtest)"
   ]
  },
  {
   "cell_type": "markdown",
   "id": "400ba5a8",
   "metadata": {},
   "source": [
    "The testing and training errors for three of these are very close. It is obvious that PCR and PLS are not the best models for the data. It comes down to OLS, Ridge and Lasso regressions. I think it is safe to say that any three of these would work almost equally as well as the others, but Lasso has the smallest testing error and it stands to be improved the most by finding a more accurate alpha value, so I believe the Lasso regression is the best model."
   ]
  }
 ],
 "metadata": {
  "kernelspec": {
   "display_name": "Python 3",
   "language": "python",
   "name": "python3"
  },
  "language_info": {
   "codemirror_mode": {
    "name": "ipython",
    "version": 3
   },
   "file_extension": ".py",
   "mimetype": "text/x-python",
   "name": "python",
   "nbconvert_exporter": "python",
   "pygments_lexer": "ipython3",
   "version": "3.8.8"
  }
 },
 "nbformat": 4,
 "nbformat_minor": 5
}
